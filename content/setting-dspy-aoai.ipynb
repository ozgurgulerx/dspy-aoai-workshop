{
 "cells": [
  {
   "cell_type": "markdown",
   "metadata": {},
   "source": [
    "# DSPy \n",
    "\n",
    "DSPy is a declerative programming language..."
   ]
  },
  {
   "cell_type": "code",
   "execution_count": null,
   "metadata": {
    "vscode": {
     "languageId": "shellscript"
    }
   },
   "outputs": [],
   "source": [
    "#Create a venv and install the requirements\n",
    "cd /path/to/your/project\n",
    "python -m venv venv_name\n",
    "source venv_name/bin/activate\n",
    "pip install -r requirements.txt \n"
   ]
  },
  {
   "cell_type": "code",
   "execution_count": null,
   "metadata": {},
   "outputs": [],
   "source": [
    "#Upgrade DSPy package (Currently 2.5.31 as of November, 2024)\n",
    "source venv_name/bin/activate\n",
    "\n",
    "!pip install -U dspy-ai\n"
   ]
  },
  {
   "cell_type": "markdown",
   "metadata": {},
   "source": [
    "### AzureOpenAI Endpoints "
   ]
  },
  {
   "cell_type": "code",
   "execution_count": null,
   "metadata": {},
   "outputs": [],
   "source": [
    "import os \n",
    "import dspy\n",
    "import pandas as pd\n",
    "from dotenv import dotenv_values, load_dotenv\n",
    "from openai import AzureOpenAI\n",
    "\n",
    "# Load environment variables\n",
    "load_dotenv()\n",
    "\n",
    "# Azure OpenAI Configuration\n",
    "azure_endpoint = os.getenv(\"AZURE_OPENAI_API_EASTUS_ENDPOINT\")\n",
    "api_key = os.getenv(\"AZURE_OPENAI_EASTUS_API_KEY\")\n",
    "deployment = 'gpt-4o-mini-eastus-0718'\n",
    "\n",
    "# Initialize DSPy with Azure OpenAI\n",
    "turbo = dspy.AzureOpenAI(\n",
    "    api_key=api_key,\n",
    "    api_version=\"2024-06-01\",\n",
    "    api_base=azure_endpoint,\n",
    "    model=deployment\n",
    ")\n",
    "\n",
    "# Configure DSPy\n",
    "dspy.configure(lm=turbo)\n",
    "qa = dspy.Predict('question: str -> response: str')\n",
    "qa(question=\"What is a blackhole?\").response"
   ]
  },
  {
   "cell_type": "markdown",
   "metadata": {},
   "source": [
    "### Try different DSPy Modules on AOAI and understand their behavior "
   ]
  },
  {
   "cell_type": "code",
   "execution_count": null,
   "metadata": {},
   "outputs": [],
   "source": [
    "#Module Chain of Thought \n",
    "cot = dspy.ChainOfThought('text: str -> completion: str')\n",
    "cot(text=\"Optimise a financial portfolio of $100k with the right asset allocation?\")    "
   ]
  }
 ],
 "metadata": {
  "kernelspec": {
   "display_name": "venv",
   "language": "python",
   "name": "python3"
  },
  "language_info": {
   "codemirror_mode": {
    "name": "ipython",
    "version": 3
   },
   "file_extension": ".py",
   "mimetype": "text/x-python",
   "name": "python",
   "nbconvert_exporter": "python",
   "pygments_lexer": "ipython3",
   "version": "3.12.7"
  }
 },
 "nbformat": 4,
 "nbformat_minor": 2
}
