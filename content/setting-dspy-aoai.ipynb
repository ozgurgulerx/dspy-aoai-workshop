{
 "cells": [
  {
   "cell_type": "markdown",
   "metadata": {},
   "source": [
    "# DSPy \n",
    "\n",
    "DSPy is a declerative programming language..."
   ]
  },
  {
   "cell_type": "markdown",
   "metadata": {},
   "source": [
    "### AzureOpenAI Endpoints "
   ]
  },
  {
   "cell_type": "code",
   "execution_count": 3,
   "metadata": {},
   "outputs": [
    {
     "name": "stderr",
     "output_type": "stream",
     "text": [
      "/Users/ozgurguler/Developer/Projects/dspy-aoai-workshop/venv/lib/python3.12/site-packages/tqdm/auto.py:21: TqdmWarning: IProgress not found. Please update jupyter and ipywidgets. See https://ipywidgets.readthedocs.io/en/stable/user_install.html\n",
      "  from .autonotebook import tqdm as notebook_tqdm\n",
      "WARNING:root:\t*** In DSPy 2.5, all LM clients except `dspy.LM` are deprecated, underperform, and are about to be deleted. ***\n",
      " \t\tYou are using the client AzureOpenAI, which will be removed in DSPy 2.6.\n",
      " \t\tChanging the client is straightforward and will let you use new features (Adapters) that improve the consistency of LM outputs, especially when using chat LMs. \n",
      "\n",
      " \t\tLearn more about the changes and how to migrate at\n",
      " \t\thttps://github.com/stanfordnlp/dspy/blob/main/examples/migration.ipynb\n"
     ]
    },
    {
     "data": {
      "text/plain": [
       "'Question: What is a blackhole?  \\nResponse: A black hole is a region in space where the gravitational pull is so strong that nothing, not even light, can escape from it. It is formed when a massive star collapses under its own gravity at the end of its life cycle. Black holes can vary in size and are often detected by observing the effects of their gravity on nearby objects and light.'"
      ]
     },
     "execution_count": 3,
     "metadata": {},
     "output_type": "execute_result"
    }
   ],
   "source": [
    "import os \n",
    "import dspy\n",
    "import pandas as pd\n",
    "from dotenv import dotenv_values, load_dotenv\n",
    "from openai import AzureOpenAI\n",
    "\n",
    "# Load environment variables\n",
    "load_dotenv()\n",
    "\n",
    "# Azure OpenAI Configuration\n",
    "azure_endpoint = os.getenv(\"AZURE_OPENAI_API_EASTUS_ENDPOINT\")\n",
    "api_key = os.getenv(\"AZURE_OPENAI_EASTUS_API_KEY\")\n",
    "deployment = 'gpt-4o-mini-eastus-0718'\n",
    "\n",
    "# Initialize DSPy with Azure OpenAI\n",
    "turbo = dspy.AzureOpenAI(\n",
    "    api_key=api_key,\n",
    "    api_version=\"2024-06-01\",\n",
    "    api_base=azure_endpoint,\n",
    "    model=deployment\n",
    ")\n",
    "\n",
    "# Configure DSPy\n",
    "dspy.configure(lm=turbo)\n",
    "qa = dspy.Predict('question: str -> response: str')\n",
    "qa(question=\"What is a blackhole?\").response"
   ]
  },
  {
   "cell_type": "markdown",
   "metadata": {},
   "source": [
    "### Try different DSPy Modules on AOAI and understand their behavior "
   ]
  },
  {
   "cell_type": "code",
   "execution_count": null,
   "metadata": {},
   "outputs": [
    {
     "data": {
      "text/plain": [
       "Prediction(\n",
       "    rationale=\"determine the best asset allocation for a financial portfolio of $100k. We need to consider factors such as risk tolerance, investment goals, and market conditions. First, we should assess the investor's risk tolerance, which can range from conservative to aggressive. Next, we can look at different asset classes such as stocks, bonds, and alternative investments. A common approach is to use a diversified mix, for example, allocating 60% to stocks for growth, 30% to bonds for stability, and 10% to alternative investments for additional diversification. Finally, we should regularly review and rebalance the portfolio to ensure it aligns with the investor's goals and market changes.\",\n",
       "    completion='A recommended asset allocation could be 60% in stocks,'\n",
       ")"
      ]
     },
     "execution_count": 9,
     "metadata": {},
     "output_type": "execute_result"
    }
   ],
   "source": [
    "#Module Chain of Thought \n",
    "cot = dspy.ChainOfThought('text: str -> completion: str')\n",
    "cot(text=\"Optimise a financial portfolio of $100k with the right asset allocation?\")    "
   ]
  }
 ],
 "metadata": {
  "kernelspec": {
   "display_name": "venv",
   "language": "python",
   "name": "python3"
  },
  "language_info": {
   "codemirror_mode": {
    "name": "ipython",
    "version": 3
   },
   "file_extension": ".py",
   "mimetype": "text/x-python",
   "name": "python",
   "nbconvert_exporter": "python",
   "pygments_lexer": "ipython3",
   "version": "3.12.7"
  }
 },
 "nbformat": 4,
 "nbformat_minor": 2
}
